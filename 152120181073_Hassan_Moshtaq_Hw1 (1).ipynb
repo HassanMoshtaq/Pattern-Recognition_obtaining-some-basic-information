{
  "nbformat": 4,
  "nbformat_minor": 0,
  "metadata": {
    "colab": {
      "provenance": []
    },
    "kernelspec": {
      "name": "python3",
      "display_name": "Python 3"
    },
    "language_info": {
      "name": "python"
    }
  },
  "cells": [
    {
      "cell_type": "code",
      "execution_count": 61,
      "metadata": {
        "id": "BpB27M5sVXoJ",
        "colab": {
          "base_uri": "https://localhost:8080/",
          "height": 210
        },
        "outputId": "473c5e4d-f48c-4ead-ecd4-dfd072a42d3d"
      },
      "outputs": [
        {
          "output_type": "display_data",
          "data": {
            "text/plain": [
              "<IPython.core.display.HTML object>"
            ],
            "text/html": [
              "\n",
              "     <input type=\"file\" id=\"files-67bb6601-ca59-4c93-931a-c00cdb353bec\" name=\"files[]\" multiple disabled\n",
              "        style=\"border:none\" />\n",
              "     <output id=\"result-67bb6601-ca59-4c93-931a-c00cdb353bec\">\n",
              "      Upload widget is only available when the cell has been executed in the\n",
              "      current browser session. Please rerun this cell to enable.\n",
              "      </output>\n",
              "      <script>// Copyright 2017 Google LLC\n",
              "//\n",
              "// Licensed under the Apache License, Version 2.0 (the \"License\");\n",
              "// you may not use this file except in compliance with the License.\n",
              "// You may obtain a copy of the License at\n",
              "//\n",
              "//      http://www.apache.org/licenses/LICENSE-2.0\n",
              "//\n",
              "// Unless required by applicable law or agreed to in writing, software\n",
              "// distributed under the License is distributed on an \"AS IS\" BASIS,\n",
              "// WITHOUT WARRANTIES OR CONDITIONS OF ANY KIND, either express or implied.\n",
              "// See the License for the specific language governing permissions and\n",
              "// limitations under the License.\n",
              "\n",
              "/**\n",
              " * @fileoverview Helpers for google.colab Python module.\n",
              " */\n",
              "(function(scope) {\n",
              "function span(text, styleAttributes = {}) {\n",
              "  const element = document.createElement('span');\n",
              "  element.textContent = text;\n",
              "  for (const key of Object.keys(styleAttributes)) {\n",
              "    element.style[key] = styleAttributes[key];\n",
              "  }\n",
              "  return element;\n",
              "}\n",
              "\n",
              "// Max number of bytes which will be uploaded at a time.\n",
              "const MAX_PAYLOAD_SIZE = 100 * 1024;\n",
              "\n",
              "function _uploadFiles(inputId, outputId) {\n",
              "  const steps = uploadFilesStep(inputId, outputId);\n",
              "  const outputElement = document.getElementById(outputId);\n",
              "  // Cache steps on the outputElement to make it available for the next call\n",
              "  // to uploadFilesContinue from Python.\n",
              "  outputElement.steps = steps;\n",
              "\n",
              "  return _uploadFilesContinue(outputId);\n",
              "}\n",
              "\n",
              "// This is roughly an async generator (not supported in the browser yet),\n",
              "// where there are multiple asynchronous steps and the Python side is going\n",
              "// to poll for completion of each step.\n",
              "// This uses a Promise to block the python side on completion of each step,\n",
              "// then passes the result of the previous step as the input to the next step.\n",
              "function _uploadFilesContinue(outputId) {\n",
              "  const outputElement = document.getElementById(outputId);\n",
              "  const steps = outputElement.steps;\n",
              "\n",
              "  const next = steps.next(outputElement.lastPromiseValue);\n",
              "  return Promise.resolve(next.value.promise).then((value) => {\n",
              "    // Cache the last promise value to make it available to the next\n",
              "    // step of the generator.\n",
              "    outputElement.lastPromiseValue = value;\n",
              "    return next.value.response;\n",
              "  });\n",
              "}\n",
              "\n",
              "/**\n",
              " * Generator function which is called between each async step of the upload\n",
              " * process.\n",
              " * @param {string} inputId Element ID of the input file picker element.\n",
              " * @param {string} outputId Element ID of the output display.\n",
              " * @return {!Iterable<!Object>} Iterable of next steps.\n",
              " */\n",
              "function* uploadFilesStep(inputId, outputId) {\n",
              "  const inputElement = document.getElementById(inputId);\n",
              "  inputElement.disabled = false;\n",
              "\n",
              "  const outputElement = document.getElementById(outputId);\n",
              "  outputElement.innerHTML = '';\n",
              "\n",
              "  const pickedPromise = new Promise((resolve) => {\n",
              "    inputElement.addEventListener('change', (e) => {\n",
              "      resolve(e.target.files);\n",
              "    });\n",
              "  });\n",
              "\n",
              "  const cancel = document.createElement('button');\n",
              "  inputElement.parentElement.appendChild(cancel);\n",
              "  cancel.textContent = 'Cancel upload';\n",
              "  const cancelPromise = new Promise((resolve) => {\n",
              "    cancel.onclick = () => {\n",
              "      resolve(null);\n",
              "    };\n",
              "  });\n",
              "\n",
              "  // Wait for the user to pick the files.\n",
              "  const files = yield {\n",
              "    promise: Promise.race([pickedPromise, cancelPromise]),\n",
              "    response: {\n",
              "      action: 'starting',\n",
              "    }\n",
              "  };\n",
              "\n",
              "  cancel.remove();\n",
              "\n",
              "  // Disable the input element since further picks are not allowed.\n",
              "  inputElement.disabled = true;\n",
              "\n",
              "  if (!files) {\n",
              "    return {\n",
              "      response: {\n",
              "        action: 'complete',\n",
              "      }\n",
              "    };\n",
              "  }\n",
              "\n",
              "  for (const file of files) {\n",
              "    const li = document.createElement('li');\n",
              "    li.append(span(file.name, {fontWeight: 'bold'}));\n",
              "    li.append(span(\n",
              "        `(${file.type || 'n/a'}) - ${file.size} bytes, ` +\n",
              "        `last modified: ${\n",
              "            file.lastModifiedDate ? file.lastModifiedDate.toLocaleDateString() :\n",
              "                                    'n/a'} - `));\n",
              "    const percent = span('0% done');\n",
              "    li.appendChild(percent);\n",
              "\n",
              "    outputElement.appendChild(li);\n",
              "\n",
              "    const fileDataPromise = new Promise((resolve) => {\n",
              "      const reader = new FileReader();\n",
              "      reader.onload = (e) => {\n",
              "        resolve(e.target.result);\n",
              "      };\n",
              "      reader.readAsArrayBuffer(file);\n",
              "    });\n",
              "    // Wait for the data to be ready.\n",
              "    let fileData = yield {\n",
              "      promise: fileDataPromise,\n",
              "      response: {\n",
              "        action: 'continue',\n",
              "      }\n",
              "    };\n",
              "\n",
              "    // Use a chunked sending to avoid message size limits. See b/62115660.\n",
              "    let position = 0;\n",
              "    do {\n",
              "      const length = Math.min(fileData.byteLength - position, MAX_PAYLOAD_SIZE);\n",
              "      const chunk = new Uint8Array(fileData, position, length);\n",
              "      position += length;\n",
              "\n",
              "      const base64 = btoa(String.fromCharCode.apply(null, chunk));\n",
              "      yield {\n",
              "        response: {\n",
              "          action: 'append',\n",
              "          file: file.name,\n",
              "          data: base64,\n",
              "        },\n",
              "      };\n",
              "\n",
              "      let percentDone = fileData.byteLength === 0 ?\n",
              "          100 :\n",
              "          Math.round((position / fileData.byteLength) * 100);\n",
              "      percent.textContent = `${percentDone}% done`;\n",
              "\n",
              "    } while (position < fileData.byteLength);\n",
              "  }\n",
              "\n",
              "  // All done.\n",
              "  yield {\n",
              "    response: {\n",
              "      action: 'complete',\n",
              "    }\n",
              "  };\n",
              "}\n",
              "\n",
              "scope.google = scope.google || {};\n",
              "scope.google.colab = scope.google.colab || {};\n",
              "scope.google.colab._files = {\n",
              "  _uploadFiles,\n",
              "  _uploadFilesContinue,\n",
              "};\n",
              "})(self);\n",
              "</script> "
            ]
          },
          "metadata": {}
        },
        {
          "output_type": "stream",
          "name": "stdout",
          "text": [
            "Saving cat1.jpg to cat1 (2).jpg\n",
            "Saving cat2.jpg to cat2 (2).jpg\n",
            "Saving cat3.jpg to cat3 (2).jpg\n",
            "Saving color_template.png to color_template (1).png\n",
            "Saving dog1.jpg to dog1 (2).jpg\n"
          ]
        }
      ],
      "source": [
        "from google.colab import files\n",
        "uploaded = files.upload()"
      ]
    },
    {
      "cell_type": "code",
      "source": [
        "# Adding necessary libaries\n",
        "\n",
        "import numpy as np                                 # Here the np is the short name to call function numpy\n",
        "from scipy import misc                             # This libary gives the functionality of reading, writting and manipulating the images.\n",
        "import matplotlib.pyplot as plt                    # This libary is basically used for ploting.\n",
        "import cv2                                         # is used for many tasks like image processing,Object detection.\n",
        "\n",
        "\n",
        "# Here The program reads the images first and then demonstrates them by using Subplot function (plt).\n",
        "\n",
        "image1 = plt.imread(\"cat1.jpg\")                     # Here we just read the images by plt.imread function.\n",
        "image2 = plt.imread(\"cat2.jpg\")\n",
        "image3 = plt.imread(\"cat3.jpg\")\n",
        "image4 = plt.imread(\"dog1.jpg\")\n",
        "\n",
        "# Here we are creating figure\n",
        "Myfigure = plt.figure(figsize=(20,20))             # it creates a figure with a size of 20x20 inches. And figure function is used for creating figures(Sekil)\n",
        "\n",
        "# Here We are setting values to rows and column variables. it demonstrates that we arrange our  subplots in a single row with four columns.\n",
        "rows = 1\n",
        "columns = 4\n",
        "\n",
        "# Here we are adding subplots at their positions and we show them.\n",
        "# This code adds a subplot to the figure Myfigure at the specified position, and then it displays image1 in that subplot with a title \"cat1\".\n",
        "\n",
        "Myfigure.add_subplot(rows,columns,1)\n",
        "plt.imshow(image1)\n",
        "plt.title(\"cat1\")\n",
        "\n",
        "# This code adds a subplot to the figure Myfigure at the specified position, and then it displays image1 in that subplot with a title \"cat2\".\n",
        "\n",
        "Myfigure.add_subplot(rows,columns,2)\n",
        "plt.imshow(image2)\n",
        "plt.title(\"cat2\")\n",
        "\n",
        "# This code adds a subplot to the figure Myfigure at the specified position, and then it displays image1 in that subplot with a title \"cat2\".\n",
        "\n",
        "Myfigure.add_subplot(rows,columns,3)\n",
        "plt.imshow(image3)\n",
        "plt.title(\"cat3\")\n",
        "\n",
        "# This code adds a subplot to the figure Myfigure at the specified position, and then it displays image1 in that subplot with a title \"dog1\".\n",
        "\n",
        "Myfigure.add_subplot(rows,columns,4)\n",
        "plt.imshow(image4)\n",
        "plt.title(\"dog1\")\n",
        "\n",
        "# The shape of image1 will be printed as a tuple containing three elements: (height, width, channels)\n",
        "\n",
        "print(image1.shape)\n",
        "\n",
        "\n",
        "\n",
        "\n",
        "\n",
        "\n"
      ],
      "metadata": {
        "id": "DuRjgmpLVmA1"
      },
      "execution_count": null,
      "outputs": []
    },
    {
      "cell_type": "code",
      "source": [
        "# Here the  code resizes the images image1, image2, image3, and image4 to a new size of (224, 224) pixels using the cv2.resize()\n",
        "\n",
        "image1_resized = cv2.resize(image1, (224,224))\n",
        "image2_resized = cv2.resize(image2, (224, 224))\n",
        "image3_resized = cv2.resize(image3, (224, 224))\n",
        "image4_resized = cv2.resize(image4, (224, 224))\n",
        "\n",
        "# Creating figure\n",
        "Myfigure = plt.figure(figsize=(20,20))\n",
        "\n",
        "# Here we are setting values to rows and columns variables\n",
        "rows = 1\n",
        "columns = 4\n",
        "\n",
        "# Here we are adding subplots at their positions and then we demonstrate them.\n",
        "\n",
        "Myfigure.add_subplot(rows,columns, 1)\n",
        "plt.imshow(image1_resized)\n",
        "plt.title(\"224X224x3_resized_cat1\")\n",
        "\n",
        "Myfigure.add_subplot(rows,columns, 2)\n",
        "plt.imshow(image2_resized)\n",
        "plt.title(\"224X224x3_resized_cat2\")\n",
        "\n",
        "Myfigure.add_subplot(rows,columns, 3)\n",
        "plt.imshow(image3_resized)\n",
        "plt.title(\"224X224x3_resized_cat3\")\n",
        "\n",
        "Myfigure.add_subplot(rows,columns, 4)\n",
        "plt.imshow(image4_resized)\n",
        "plt.title(\"224X224x3_resized_dog1\")\n",
        "plt.show()\n",
        "\n"
      ],
      "metadata": {
        "id": "tf0aD3BhX-Yp"
      },
      "execution_count": null,
      "outputs": []
    },
    {
      "cell_type": "code",
      "source": [
        "# (224, 224, 3)\n",
        "\n",
        "print(image1_resized.shape)"
      ],
      "metadata": {
        "colab": {
          "base_uri": "https://localhost:8080/"
        },
        "id": "4w6TDjQmhUyW",
        "outputId": "6f262524-4640-491c-ed59-4105b0eaa0ad"
      },
      "execution_count": 91,
      "outputs": [
        {
          "output_type": "stream",
          "name": "stdout",
          "text": [
            "(224, 224, 3)\n"
          ]
        }
      ]
    },
    {
      "cell_type": "code",
      "source": [
        "# Example of accessing a pixel value of a color image.\n",
        "# With following code we are accessing to a pixel value of a color image.\n",
        "\n",
        "image1 = cv2.imread(\"cat1.jpg\")\n",
        "image1_RGB = cv2.cvtColor(image1, cv2.COLOR_BGR2RGB)\n",
        "plt.imshow(image1_RGB)\n",
        "plt.show()"
      ],
      "metadata": {
        "id": "McnxewhmhlPR"
      },
      "execution_count": null,
      "outputs": []
    },
    {
      "cell_type": "code",
      "source": [
        "R = image1_RGB[300, 250, 0]\n",
        "G = image1_RGB[300, 250, 1]\n",
        "B = image1_RGB[300, 250, 2]\n",
        "RGB = image1_RGB[300, 250, :]\n",
        "\n",
        "print('R', R, 'G', G, 'B', B)\n",
        "print(RGB)"
      ],
      "metadata": {
        "id": "mesR4WB-iGsE",
        "colab": {
          "base_uri": "https://localhost:8080/"
        },
        "outputId": "5ccd02ed-67b9-4ed7-ee7e-615e027ed20b"
      },
      "execution_count": 93,
      "outputs": [
        {
          "output_type": "stream",
          "name": "stdout",
          "text": [
            "R 29 G 18 B 12\n",
            "[29 18 12]\n"
          ]
        }
      ]
    },
    {
      "cell_type": "code",
      "source": [
        "# Task1\n",
        "# Here we read an image named \"color_template.png\" by using the cv2.imread()\n",
        "# And then we Convert the color space of the image from BGR (Blue-Green-Red) to RGB (Red-Green-Blue)\n",
        "\n",
        "img = cv2.imread(\"color_template.png\")\n",
        "My_First_RGB_img = cv2.cvtColor(img, cv2.COLOR_BGR2RGB)\n",
        "plt.imshow(My_First_RGB_img)\n",
        "plt.title(\"RGB_Color_template\")\n",
        "plt.show()\n"
      ],
      "metadata": {
        "id": "CMMpPf5GlIO1"
      },
      "execution_count": null,
      "outputs": []
    },
    {
      "cell_type": "code",
      "source": [
        "print(img.shape)"
      ],
      "metadata": {
        "colab": {
          "base_uri": "https://localhost:8080/"
        },
        "id": "DsGiT7gmlJz2",
        "outputId": "27594204-14c8-4677-87a6-2a5f1d8c973b"
      },
      "execution_count": 95,
      "outputs": [
        {
          "output_type": "stream",
          "name": "stdout",
          "text": [
            "(420, 560, 3)\n"
          ]
        }
      ]
    },
    {
      "cell_type": "code",
      "source": [
        "# Here we are resizing the picture of color_template to a new size of (224, 224) pixels\n",
        "\n",
        "RGB_resized_img = cv2.resize(My_First_RGB_img, (224, 224))\n",
        "plt.imshow(RGB_resized_img)\n",
        "plt.show()"
      ],
      "metadata": {
        "id": "ECS_do81n0wH"
      },
      "execution_count": null,
      "outputs": []
    },
    {
      "cell_type": "code",
      "source": [
        "print(RGB_resized_img.shape)"
      ],
      "metadata": {
        "colab": {
          "base_uri": "https://localhost:8080/"
        },
        "id": "QIkdRdwao_EQ",
        "outputId": "f6ed0e0c-69b6-48d7-fd89-a617b8811f63"
      },
      "execution_count": 97,
      "outputs": [
        {
          "output_type": "stream",
          "name": "stdout",
          "text": [
            "(224, 224, 3)\n"
          ]
        }
      ]
    },
    {
      "cell_type": "code",
      "source": [
        "# SOLVING THE PROBLEM OF UINT8 DATATYPE\n",
        "# Which is the default datatype of cv2.imread function\n",
        "# First we create a numpy 3d array (224,224,3)\n",
        "# Then We assign every pixels color channel values to this new created array\n",
        "# it will now store values exactly equal as we pass them into it(Negaive ones for example) it wont rearrange values into[0,255] range\n",
        "# And in the end we get the original image back\n",
        "\n",
        "# This code creates a NumPy array image_RGB_NParr initialized with zeros,\n",
        "# with a shape of (224, 224, 3). This shape indicates an image with a height and width of 224 pixels and 3 color channels (Red, Green, and Blue).\n",
        "\n",
        "image_RGB_NParr = np.zeros((224,224,3))\n",
        "\n",
        "for i in range(0, 224):\n",
        "  for j in range(0, 224):\n",
        "    image_RGB_NParr[i,j,:] = RGB_resized_img[i,j,:]"
      ],
      "metadata": {
        "id": "cmic2JP3pYuh"
      },
      "execution_count": 98,
      "outputs": []
    },
    {
      "cell_type": "code",
      "source": [
        "# plt.imshow() function allows float the float values only in range [0,1]. So, divide values with 255 so as print the image.\n",
        "\n",
        "for i in range (0,224):\n",
        "   for j in range(0,224):\n",
        "    R = image_RGB_NParr[i,j,0] / 255\n",
        "    G = image_RGB_NParr[i,j,1] / 255\n",
        "    B = image_RGB_NParr[i,j,2] / 255\n",
        "    image_RGB_NParr[i,j,:] = [R,G,B]"
      ],
      "metadata": {
        "id": "4WDI2bwbt9ZS"
      },
      "execution_count": 99,
      "outputs": []
    },
    {
      "cell_type": "code",
      "source": [
        "# Here we  Successfully printed the image with float values between[0,1] after dividing them to 255.\n",
        "plt.imshow(image_RGB_NParr)\n",
        "plt.show()"
      ],
      "metadata": {
        "id": "GMUlf7SwvMdw"
      },
      "execution_count": null,
      "outputs": []
    },
    {
      "cell_type": "code",
      "source": [
        "# Here we have created Transformatin Matrices\n",
        "# From RGB to YUV\n",
        "rgb2yuv_matrix = np.ones((3,3), dtype= np.float32)\n",
        "rgb2yuv_matrix = [[0.2126, 0.7152, 0.0722], [-0.09991, -0.33609, 0.436], [0.615, -0.55861, -0.05639]]\n",
        "\n",
        "rgb2yuv_matrix = np.float32(rgb2yuv_matrix)\n",
        "print(rgb2yuv_matrix)\n"
      ],
      "metadata": {
        "colab": {
          "base_uri": "https://localhost:8080/"
        },
        "id": "ucz6p0I0wIeJ",
        "outputId": "b9c1d916-b8e3-43f7-e2c6-bbb3c78cdeb8"
      },
      "execution_count": 101,
      "outputs": [
        {
          "output_type": "stream",
          "name": "stdout",
          "text": [
            "[[ 0.2126   0.7152   0.0722 ]\n",
            " [-0.09991 -0.33609  0.436  ]\n",
            " [ 0.615   -0.55861 -0.05639]]\n"
          ]
        }
      ]
    },
    {
      "cell_type": "code",
      "source": [
        "# from YUV to RGB\n",
        "yuv2rgb_matrix = np.ones((3,3), dtype= np.float32)\n",
        "yuv2rgb_matrix = [[1, 0, 1.28033], [1, -0.21482, -0.38059], [1, 2.12798, 0]]\n",
        "\n",
        "yuv2rgb_matrix = np.float32(yuv2rgb_matrix)\n",
        "print(yuv2rgb_matrix)\n"
      ],
      "metadata": {
        "id": "Tsg0yRo3wR9u",
        "colab": {
          "base_uri": "https://localhost:8080/"
        },
        "outputId": "4c7f9c84-78a2-404d-9bf5-513d2c7e1c99"
      },
      "execution_count": 102,
      "outputs": [
        {
          "output_type": "stream",
          "name": "stdout",
          "text": [
            "[[ 1.       0.       1.28033]\n",
            " [ 1.      -0.21482 -0.38059]\n",
            " [ 1.       2.12798  0.     ]]\n"
          ]
        }
      ]
    },
    {
      "cell_type": "code",
      "source": [
        "# Multiplying values back with 255\n",
        "\n",
        "for i in range(0,224):\n",
        "  for j in range(0,224):\n",
        "    image_RGB_NParr[i,j,0] = image_RGB_NParr[i,j,0] * 255\n",
        "    image_RGB_NParr[i,j,1] = image_RGB_NParr[i,j,1] * 255\n",
        "    image_RGB_NParr[i,j,2] = image_RGB_NParr[i,j,2] * 255"
      ],
      "metadata": {
        "id": "xCu-Gj2h18I1"
      },
      "execution_count": 103,
      "outputs": []
    },
    {
      "cell_type": "code",
      "source": [
        "# Creating a 3d numpy arry in order to hold YUV values of image. Then we transform values using transformation matrix that we created earlier.\n",
        "\n",
        "# Create a numpy array to hold YUV formatted values.\n",
        "\n",
        "image_YUV_NParr = np.zeros((224,224,3))\n",
        "\n",
        "for i in range(0,224):\n",
        "  for j in range(0,224):\n",
        "    image_YUV_NParr[i,j,:] = np.dot(rgb2yuv_matrix , image_RGB_NParr[i,j,:])\n"
      ],
      "metadata": {
        "id": "OSEyyRhv4TGi"
      },
      "execution_count": 104,
      "outputs": []
    },
    {
      "cell_type": "code",
      "source": [
        "# Dividing values with 255 in order to print image with imshow() function. Get RGB2YUV\n",
        "for i in range(0,224):\n",
        "  for j in range(0,224):\n",
        "    R = image_YUV_NParr[i,j,0] / 255\n",
        "    G = image_YUV_NParr[i,j,1] / 255\n",
        "    B = image_YUV_NParr[i,j,2] / 255\n",
        "    image_YUV_NParr[i,j,:] = [R,G,B]\n"
      ],
      "metadata": {
        "id": "3IuqxQug6eYa"
      },
      "execution_count": 105,
      "outputs": []
    },
    {
      "cell_type": "code",
      "source": [
        "plt.title(\"RGB_to_YUV_image\")\n",
        "plt.imshow(image_YUV_NParr)\n",
        "plt.show()"
      ],
      "metadata": {
        "id": "ImiA4EKX7n_V"
      },
      "execution_count": null,
      "outputs": []
    },
    {
      "cell_type": "code",
      "source": [
        "# So as to get original YUV values back we multiply each value stored in the matrix with 255.\n",
        "\n",
        "for i in range(0,224):\n",
        "  for j in range(0,224):\n",
        "    image_YUV_NParr[i,j,0] = image_YUV_NParr[i,j,0] * 255\n",
        "    image_YUV_NParr[i,j,1] = image_YUV_NParr[i,j,1] * 255\n",
        "    image_YUV_NParr[i,j,2] = image_YUV_NParr[i,j,2] * 255"
      ],
      "metadata": {
        "id": "49IwQRjEJxF7"
      },
      "execution_count": 107,
      "outputs": []
    },
    {
      "cell_type": "code",
      "source": [
        "# Here i created a 3D numpy array, that will be holding R,G and B values to get with using transformation matrix on YUV values.Returns the original image."
      ],
      "metadata": {
        "id": "YkoTYNxAKf8b"
      },
      "execution_count": 76,
      "outputs": []
    },
    {
      "cell_type": "code",
      "source": [
        "image_back2RGB_NParr = np.zeros((224,224,3))\n",
        "\n",
        "for i in range(0,224):\n",
        "  for j in range(0,224):\n",
        "    image_back2RGB_NParr[i,j,:] = np.dot(rgb2yuv_matrix, image_YUV_NParr[i,j,:])"
      ],
      "metadata": {
        "id": "w_UVg4-xK-Ca"
      },
      "execution_count": 108,
      "outputs": []
    },
    {
      "cell_type": "code",
      "source": [
        "for i in range(0,224):\n",
        "  for j in range(0,224):\n",
        "    R = image_back2RGB_NParr[i,j,0] / 255\n",
        "    G = image_back2RGB_NParr[i,j,1] / 255\n",
        "    B = image_back2RGB_NParr[i,j,2] / 255\n",
        "    image_back2RGB_NParr[i,j,:] = [R,G,B]\n"
      ],
      "metadata": {
        "id": "3DphW5S3LvpV"
      },
      "execution_count": 109,
      "outputs": []
    },
    {
      "cell_type": "code",
      "source": [
        "# The image will appear in Red,Green and Blue colors.\n",
        "\n",
        "plt.title(\"YUV_to_RGB_image\")\n",
        "plt.imshow(image_back2RGB_NParr)\n",
        "plt.show()"
      ],
      "metadata": {
        "id": "LMlQ2m7tL79u"
      },
      "execution_count": null,
      "outputs": []
    },
    {
      "cell_type": "code",
      "source": [
        "# Task2\n",
        "\n",
        "# Here i fliped the cat's and dogs's images vertically (Dikey Olarak)\n",
        "\n",
        "resized_image1_vertically = cv2.flip(image1_resized, 0)\n",
        "resized_image2_vertically= cv2.flip(image2_resized, 0)\n",
        "resized_image3_vertically = cv2.flip(image3_resized, 0)\n",
        "resized_image4_vertically = cv2.flip(image4_resized, 0)\n"
      ],
      "metadata": {
        "id": "oL3O_W3vMiA1"
      },
      "execution_count": 112,
      "outputs": []
    },
    {
      "cell_type": "code",
      "source": [
        "# Here i flipped cat's and dog's images horizontally (yatay olarak)\n",
        "\n",
        "resized_image1_horizontally = cv2.flip(image1_resized, 1)\n",
        "resized_image2_horizontally = cv2.flip(image2_resized, 1)\n",
        "resized_image3_horizontally = cv2.flip(image3_resized, 1)\n",
        "resized_image4_horizontally = cv2.flip(image4_resized, 1)"
      ],
      "metadata": {
        "id": "T1gTA7hyMujg"
      },
      "execution_count": 113,
      "outputs": []
    },
    {
      "cell_type": "code",
      "source": [
        "# Here i rotated the cat's and dog's images to left by 90 degree.\n",
        "resized_image1_rotated_90degreeleft = cv2.rotate(image1_resized, cv2.ROTATE_90_COUNTERCLOCKWISE)\n",
        "resized_image2_rotated_90degreeleft = cv2.rotate(image2_resized, cv2.ROTATE_90_COUNTERCLOCKWISE)\n",
        "resized_image3_rotated_90degreeleft = cv2.rotate(image3_resized, cv2.ROTATE_90_COUNTERCLOCKWISE)\n",
        "resized_image4_rotated_90degreeleft = cv2.rotate(image4_resized, cv2.ROTATE_90_COUNTERCLOCKWISE)\n",
        "\n"
      ],
      "metadata": {
        "id": "WWJwvZoaPMrE"
      },
      "execution_count": 114,
      "outputs": []
    },
    {
      "cell_type": "code",
      "source": [
        "# Here i rotated  cat's  and dog's images to right by 90 degree.\n",
        "\n",
        "rotated_90degreeright_resized_image1 = cv2.rotate(image1_resized, cv2.ROTATE_90_CLOCKWISE)\n",
        "rotated_90degreeright_resized_image2 = cv2.rotate(image2_resized, cv2.ROTATE_90_CLOCKWISE)\n",
        "rotated_90degreeright_resized_image3 = cv2.rotate(image3_resized, cv2.ROTATE_90_CLOCKWISE)\n",
        "rotated_90degreeright_resized_image4 = cv2.rotate(image4_resized, cv2.ROTATE_90_CLOCKWISE)"
      ],
      "metadata": {
        "id": "lPNp75xiPap_"
      },
      "execution_count": 115,
      "outputs": []
    },
    {
      "cell_type": "code",
      "source": [
        "# Here i resized cat and dog images to half by keeping aspect ratio( Burada en boy oranını koruyarak kedi ve köpek görsellerini yarıya kadar yeniden boyutlandırdım())\n",
        "\n",
        "half_resized_image1 = cv2.resize(image1_resized, (int(224/2), int(224/2)))\n",
        "half_resized_image2 = cv2.resize(image2_resized, (int(224/2), int(224/2)))\n",
        "half_resized_image3 = cv2.resize(image3_resized, (int(224/2), int(224/2)))\n",
        "half_resized_image4 = cv2.resize(image4_resized, (int(224/2), int(224/2)))"
      ],
      "metadata": {
        "id": "lbI0p083QQM0"
      },
      "execution_count": 116,
      "outputs": []
    },
    {
      "cell_type": "code",
      "source": [
        "# Displaying input and ouput of the images finally.\n"
      ],
      "metadata": {
        "id": "mifHv26iRMfn"
      },
      "execution_count": 117,
      "outputs": []
    },
    {
      "cell_type": "code",
      "source": [
        "# Demonstrating Cat1\n",
        "# Creating figure\n",
        "\n",
        "\n",
        "fig = plt.figure(figsize=(20, 20))\n",
        "\n",
        "#setting values to rows and column variables\n",
        "rows = 1\n",
        "columns = 5\n",
        "\n",
        "#Add subplots at their positions and show\n",
        "fig.add_subplot(rows, columns, 1)\n",
        "plt.imshow(resized_image1_vertically)\n",
        "plt.title(\"vertically_resized_cat1\")\n",
        "\n",
        "fig.add_subplot(rows, columns, 2)\n",
        "plt.imshow(resized_image1_horizontally)\n",
        "plt.title(\"horizontally_resized_cat1\")\n",
        "\n",
        "fig.add_subplot(rows, columns, 3)\n",
        "plt.imshow(resized_image1_rotated_90degreeleft)\n",
        "plt.title(\"rotated_90degreeleft_resized_cat1\")\n",
        "\n",
        "fig.add_subplot(rows, columns, 4)\n",
        "plt.imshow(rotated_90degreeright_resized_image1)\n",
        "plt.title(\"rotated_90degreeright_resized_cat1\")\n",
        "\n",
        "fig.add_subplot(rows, columns, 5)\n",
        "plt.imshow(half_resized_image1)\n",
        "plt.title(\"half_resized_cat1\")\n",
        "plt.show()\n",
        "\n",
        "# Demonstrating cat2\n",
        "#create figure#\n",
        "\n",
        "fig = plt.figure(figsize=(20, 20))\n",
        "\n",
        "#setting values to rows and column variables\n",
        "rows = 1\n",
        "columns = 5\n",
        "\n",
        "#Add subplots at their positions and show\n",
        "fig.add_subplot(rows, columns, 1)\n",
        "plt.imshow(resized_image2_vertically)\n",
        "plt.title(\"vertically_resized_cat2\")\n",
        "\n",
        "fig.add_subplot(rows, columns, 2)\n",
        "plt.imshow(resized_image2_horizontally)\n",
        "plt.title(\"horizontally_resized_cat2\")\n",
        "\n",
        "fig.add_subplot(rows, columns, 3)\n",
        "plt.imshow(resized_image2_rotated_90degreeleft)\n",
        "plt.title(\"rotated_90degreeleft_resized_cat2\")\n",
        "\n",
        "fig.add_subplot(rows, columns, 4)\n",
        "plt.imshow(rotated_90degreeright_resized_image2)\n",
        "plt.title(\"rotated_90degreeright_resized_cat2\")\n",
        "\n",
        "fig.add_subplot(rows, columns, 5)\n",
        "plt.imshow(half_resized_image2)\n",
        "plt.title(\"half_resized_cat2\")\n",
        "plt.show()\n",
        "\n",
        "#Demonstrating  cat3\n",
        "#create figure\n",
        "fig = plt.figure(figsize=(20, 20))\n",
        "\n",
        "#setting values to rows and column variables\n",
        "rows = 1\n",
        "columns = 5\n",
        "\n",
        "#Add subplots at their positions and show\n",
        "fig.add_subplot(rows, columns, 1)\n",
        "plt.imshow(resized_image3_vertically)\n",
        "plt.title(\"vertically_resized_cat3\")\n",
        "\n",
        "fig.add_subplot(rows, columns, 2)\n",
        "plt.imshow(resized_image3_horizontally)\n",
        "plt.title(\"horizontally_resized_cat3\")\n",
        "\n",
        "fig.add_subplot(rows, columns, 3)\n",
        "plt.imshow(resized_image3_rotated_90degreeleft)\n",
        "plt.title(\"rotated_90degreeleft_resized_cat3\")\n",
        "\n",
        "fig.add_subplot(rows, columns, 4)\n",
        "plt.imshow(rotated_90degreeright_resized_image3)\n",
        "plt.title(\"rotated_90degreeright_resized_cat3\")\n",
        "\n",
        "fig.add_subplot(rows, columns, 5)\n",
        "plt.imshow(half_resized_image3)\n",
        "plt.title(\"half_resized_cat3\")\n",
        "plt.show()\n",
        "\n",
        "# Demonstrating dog1\n",
        "#create figure\n",
        "fig = plt.figure(figsize=(20, 20))\n",
        "\n",
        "#setting values to rows and column variables\n",
        "rows = 1\n",
        "columns = 5\n",
        "\n",
        "#Add subplots at their positions and show\n",
        "fig.add_subplot(rows, columns, 1)\n",
        "plt.imshow(resized_image4_vertically)\n",
        "plt.title(\"vertically_resized_dog1\")\n",
        "\n",
        "fig.add_subplot(rows, columns, 2)\n",
        "plt.imshow(resized_image4_horizontally)\n",
        "plt.title(\"horizontally_resized_dog1\")\n",
        "\n",
        "fig.add_subplot(rows, columns, 3)\n",
        "plt.imshow(resized_image4_rotated_90degreeleft)\n",
        "plt.title(\"resized_image4_rotated_90degreelef\")\n",
        "\n",
        "fig.add_subplot(rows, columns, 4)\n",
        "plt.imshow(rotated_90degreeright_resized_image4)\n",
        "plt.title(\"rotated_90degreeright_resized_dog1\")\n",
        "\n",
        "fig.add_subplot(rows, columns, 5)\n",
        "plt.imshow(half_resized_image4)\n",
        "plt.title(\"half_resized_dog1\")\n",
        "plt.show()\n"
      ],
      "metadata": {
        "id": "Yv5K3NjNR2vZ"
      },
      "execution_count": null,
      "outputs": []
    }
  ]
}